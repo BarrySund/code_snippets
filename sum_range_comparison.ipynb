{
 "cells": [
  {
   "cell_type": "markdown",
   "metadata": {},
   "source": [
    "# Classic Interview Question: \n",
    "## Sum a Range of Integers"
   ]
  },
  {
   "cell_type": "markdown",
   "metadata": {},
   "source": [
    "At a recent interview I was asked to explain how to write a function that would return the sum of all positive integers up to a given integer.<br>\n",
    "The classic programming way to do this is with a <b>for</b> loop.\n",
    "\n",
    "However, as I said in the discussion, for loops are generally quite slow and can often be replaced with a much faster method. \n",
    "At the time I suggested generating a range of numbers and summing them up. \n",
    "\n",
    "But this got me thinking about how fast this would be, and how other methods may compare for speed."
   ]
  },
  {
   "cell_type": "markdown",
   "metadata": {},
   "source": [
    "<hr>\n",
    "Some examples of summing a range of integers:"
   ]
  },
  {
   "cell_type": "code",
   "execution_count": 5,
   "metadata": {},
   "outputs": [],
   "source": [
    "import numpy as np\n",
    "import timeit\n",
    "from pprint import pprint"
   ]
  },
  {
   "cell_type": "markdown",
   "metadata": {},
   "source": [
    "### For Loop"
   ]
  },
  {
   "cell_type": "code",
   "execution_count": 6,
   "metadata": {},
   "outputs": [],
   "source": [
    "def for_loop_sum(num):\n",
    "    res = 0\n",
    "    for i in range(0,num+1,1):\n",
    "        res = res + i\n",
    "    return res"
   ]
  },
  {
   "cell_type": "markdown",
   "metadata": {},
   "source": [
    "using the magic functions it's quite easy to test a single code block"
   ]
  },
  {
   "cell_type": "code",
   "execution_count": 7,
   "metadata": {},
   "outputs": [
    {
     "name": "stdout",
     "output_type": "stream",
     "text": [
      "649 ns ± 18.3 ns per loop (mean ± std. dev. of 7 runs, 1000000 loops each)\n"
     ]
    }
   ],
   "source": [
    "%%timeit\n",
    "for_loop_sum(10)"
   ]
  },
  {
   "cell_type": "code",
   "execution_count": 8,
   "metadata": {},
   "outputs": [
    {
     "data": {
      "text/plain": [
       "55"
      ]
     },
     "execution_count": 8,
     "metadata": {},
     "output_type": "execute_result"
    }
   ],
   "source": [
    "for_loop_sum(10)"
   ]
  },
  {
   "cell_type": "code",
   "execution_count": 9,
   "metadata": {},
   "outputs": [],
   "source": [
    "functions_dict={}\n",
    "functions_dict[\"for_loop_sum\"] = for_loop_sum"
   ]
  },
  {
   "cell_type": "markdown",
   "metadata": {},
   "source": [
    "### Sum of a list of numbers\n",
    "##### (made using a list comprehension)"
   ]
  },
  {
   "cell_type": "code",
   "execution_count": 10,
   "metadata": {},
   "outputs": [],
   "source": [
    "def sum_list_comprehension(num):\n",
    "    return sum([x for x in range(num+1)])"
   ]
  },
  {
   "cell_type": "code",
   "execution_count": 11,
   "metadata": {},
   "outputs": [
    {
     "data": {
      "text/plain": [
       "55"
      ]
     },
     "execution_count": 11,
     "metadata": {},
     "output_type": "execute_result"
    }
   ],
   "source": [
    "sum_list_comprehension(10)"
   ]
  },
  {
   "cell_type": "code",
   "execution_count": 12,
   "metadata": {},
   "outputs": [],
   "source": [
    "#add the function to the dictionary\n",
    "\n",
    "functions_dict[\"sum_list_comprehension\"] = sum_list_comprehension"
   ]
  },
  {
   "cell_type": "markdown",
   "metadata": {},
   "source": [
    "### Sum of a numpy range of numbers"
   ]
  },
  {
   "cell_type": "code",
   "execution_count": 13,
   "metadata": {},
   "outputs": [],
   "source": [
    "def sum_np_range(num):\n",
    "    return sum(np.arange(num+1))"
   ]
  },
  {
   "cell_type": "code",
   "execution_count": 14,
   "metadata": {},
   "outputs": [],
   "source": [
    "#add the function to the dictionary\n",
    "\n",
    "functions_dict[\"sum_np_range\"] = sum_np_range"
   ]
  },
  {
   "cell_type": "markdown",
   "metadata": {},
   "source": [
    "### numpy sum method on a numpy range of numbers"
   ]
  },
  {
   "cell_type": "code",
   "execution_count": 15,
   "metadata": {},
   "outputs": [],
   "source": [
    "def np_range_sum(num):\n",
    "    return np.arange(num+1).sum()"
   ]
  },
  {
   "cell_type": "code",
   "execution_count": 16,
   "metadata": {},
   "outputs": [],
   "source": [
    "#add the function to the dictionary\n",
    "\n",
    "functions_dict[\"np_range_sum\"] = np_range_sum"
   ]
  },
  {
   "cell_type": "markdown",
   "metadata": {},
   "source": [
    "### Series Formula\n",
    "using good old high school maths\n",
    "\n",
    "See the link for an intuitive explanation of how this function works\n"
   ]
  },
  {
   "cell_type": "code",
   "execution_count": 17,
   "metadata": {},
   "outputs": [],
   "source": [
    "def sum_of_a_series(num):\n",
    "    return (num * (num+1))/2"
   ]
  },
  {
   "cell_type": "code",
   "execution_count": 18,
   "metadata": {},
   "outputs": [],
   "source": [
    "#add the function to the dictionary\n",
    "\n",
    "functions_dict[\"sum_of_a_series\"] = sum_of_a_series"
   ]
  },
  {
   "cell_type": "markdown",
   "metadata": {},
   "source": [
    "<hr>"
   ]
  },
  {
   "cell_type": "markdown",
   "metadata": {},
   "source": [
    "### range of numbers to sum"
   ]
  },
  {
   "cell_type": "code",
   "execution_count": 19,
   "metadata": {},
   "outputs": [
    {
     "data": {
      "text/plain": [
       "[1, 10, 100, 1000, 10000, 100000, 1000000, 10000000]"
      ]
     },
     "execution_count": 19,
     "metadata": {},
     "output_type": "execute_result"
    }
   ],
   "source": [
    "num_ranges = [10**x for x in range(8)]\n",
    "num_ranges"
   ]
  },
  {
   "cell_type": "markdown",
   "metadata": {},
   "source": [
    "### using timeit\n",
    "the timeit function will accept a defined function or string to be run as a script.\n",
    "\n",
    "But as we need to pass parameters to the function,\n",
    "we need to first define a wrapper, <br>\n",
    "which will be used to pass arguments into the function which is then passed to <b>timeit</b>."
   ]
  },
  {
   "cell_type": "code",
   "execution_count": 20,
   "metadata": {},
   "outputs": [],
   "source": [
    "def wrapper(func, *args):\n",
    "    def wrapped():\n",
    "        return func(*args)\n",
    "    return wrapped"
   ]
  },
  {
   "cell_type": "code",
   "execution_count": null,
   "metadata": {},
   "outputs": [
    {
     "name": "stdout",
     "output_type": "stream",
     "text": [
      "running:  for_loop_sum\n",
      "finished\n",
      "running:  sum_list_comprehension\n"
     ]
    }
   ],
   "source": [
    "res_dict = {\"a_number_range\": num_ranges} #dictionaray to hold  results\n",
    "\n",
    "num_iterations = 100\n",
    "\n",
    "for func_name,func in functions_dict.items():\n",
    "    print(\"running: \", func_name)\n",
    "    res_list = []\n",
    "\n",
    "    for num in num_ranges:\n",
    "        if num < 10000000:\n",
    "            wrapped = wrapper(func, num)\n",
    "            res = timeit.timeit(wrapped, number = num_iterations) / num_iterations # to get the average of time to run the function\n",
    "            res_list.append(res)\n",
    "            \n",
    "    res_dict[func_name] = res_list\n",
    "    \n",
    "    print('finished')"
   ]
  },
  {
   "cell_type": "code",
   "execution_count": null,
   "metadata": {},
   "outputs": [],
   "source": [
    "pprint(res_dict)"
   ]
  }
 ],
 "metadata": {
  "kernelspec": {
   "display_name": "Python 3",
   "language": "python",
   "name": "python3"
  },
  "language_info": {
   "codemirror_mode": {
    "name": "ipython",
    "version": 3
   },
   "file_extension": ".py",
   "mimetype": "text/x-python",
   "name": "python",
   "nbconvert_exporter": "python",
   "pygments_lexer": "ipython3",
   "version": "3.7.0"
  }
 },
 "nbformat": 4,
 "nbformat_minor": 2
}
