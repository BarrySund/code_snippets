{
 "cells": [
  {
   "cell_type": "markdown",
   "metadata": {},
   "source": [
    "# Classic Interview Question: \n",
    "## Sum a Range of Integers"
   ]
  },
  {
   "cell_type": "markdown",
   "metadata": {},
   "source": [
    "At a recent interview I was asked to explain how to write a function that would return the sum of all positive integers up to a given integer.<br>\n",
    "\n",
    "As I said at the time, the classic programming way to do this is with a <b>for</b> loop, but\n",
    "for loops are generally quite slow and can often be replaced with more faster methods. \n",
    "The first thought I had was to generate a range of numbers and then sum them.  \n",
    "__But__  this got me thinking;   \n",
    "\n",
    "how fast would this be?  \n",
    "how would it compare to other methods?  \n",
    "which solution is the fastest?"
   ]
  },
  {
   "cell_type": "markdown",
   "metadata": {},
   "source": [
    "<hr>\n",
    "some methods used in this notebook are:\n",
    "\n",
    "* list comprehensions\n",
    "* the timeit function\n",
    "* function wrappers\n",
    "* Bokeh"
   ]
  },
  {
   "cell_type": "markdown",
   "metadata": {},
   "source": [
    "<hr>\n",
    "Some examples of summing a range of integers:"
   ]
  },
  {
   "cell_type": "markdown",
   "metadata": {},
   "source": [
    "### Import required libraries"
   ]
  },
  {
   "cell_type": "code",
   "execution_count": 2,
   "metadata": {},
   "outputs": [],
   "source": [
    "import numpy as np\n",
    "import timeit\n",
    "from pprint import pprint \n",
    "import pandas as pd\n",
    "\n",
    "import matplotlib.pyplot as plt"
   ]
  },
  {
   "cell_type": "code",
   "execution_count": 28,
   "metadata": {},
   "outputs": [],
   "source": [
    "#bokeh modules for tables and charts\n",
    "from bokeh import document\n",
    "from bokeh.io import show, output_file\n",
    "from bokeh.models import ColumnDataSource, CategoricalColorMapper\n",
    "from bokeh.palettes import Accent\n",
    "from bokeh.plotting import figure\n",
    "from bokeh.layouts import widgetbox, layout, column, row"
   ]
  },
  {
   "cell_type": "markdown",
   "metadata": {},
   "source": [
    "### For Loop\n",
    "\n",
    "* the 'classic' solution"
   ]
  },
  {
   "cell_type": "code",
   "execution_count": 4,
   "metadata": {},
   "outputs": [],
   "source": [
    "def for_loop_sum(num):\n",
    "    res = 0\n",
    "    for i in range(0,num+1,1):\n",
    "        res = res + i\n",
    "    return res"
   ]
  },
  {
   "cell_type": "markdown",
   "metadata": {},
   "source": [
    "### Sum Using an Generator"
   ]
  },
  {
   "cell_type": "code",
   "execution_count": 5,
   "metadata": {},
   "outputs": [],
   "source": [
    "def my_generator(num):\n",
    "    for i in range(num+1):\n",
    "        yield i"
   ]
  },
  {
   "cell_type": "code",
   "execution_count": 6,
   "metadata": {},
   "outputs": [],
   "source": [
    "def sum_my_generator(num):\n",
    "    res=0\n",
    "    for i in my_generator(num):\n",
    "        res += i\n",
    "    return res"
   ]
  },
  {
   "cell_type": "markdown",
   "metadata": {},
   "source": [
    "### Sum of a list of numbers\n",
    "##### (made using a list comprehension)"
   ]
  },
  {
   "cell_type": "code",
   "execution_count": 7,
   "metadata": {},
   "outputs": [],
   "source": [
    "def sum_list_comprehension(num):\n",
    "    return sum([x for x in range(num+1)])"
   ]
  },
  {
   "cell_type": "markdown",
   "metadata": {},
   "source": [
    "### Sum of a numpy range of numbers"
   ]
  },
  {
   "cell_type": "code",
   "execution_count": 8,
   "metadata": {},
   "outputs": [],
   "source": [
    "def sum_np_range(num):\n",
    "    return sum(np.arange(num+1, dtype=np.int64)) # Note: int32 type results in an overflow error"
   ]
  },
  {
   "cell_type": "markdown",
   "metadata": {},
   "source": [
    "### numpy sum method on a numpy range of numbers"
   ]
  },
  {
   "cell_type": "code",
   "execution_count": 9,
   "metadata": {},
   "outputs": [],
   "source": [
    "def np_range_sum(num):\n",
    "    return np.arange(num+1).sum()"
   ]
  },
  {
   "cell_type": "markdown",
   "metadata": {},
   "source": [
    "### Series Formula\n",
    "Using good, old high school maths we can also use the formula for this Series Sum. \n",
    "Interestingly, when I asked a phycisist about this question, he instantly recalled this solution."
   ]
  },
  {
   "cell_type": "markdown",
   "metadata": {},
   "source": [
    "$$S_n=\\sum_{i=0}^{n} i = \\frac{n (n+1)}{2}$$"
   ]
  },
  {
   "cell_type": "code",
   "execution_count": 10,
   "metadata": {},
   "outputs": [],
   "source": [
    "def sum_of_a_series(num):\n",
    "    return (num * (num+1))/2"
   ]
  },
  {
   "cell_type": "markdown",
   "metadata": {},
   "source": [
    "<hr>"
   ]
  },
  {
   "cell_type": "markdown",
   "metadata": {},
   "source": [
    "### Range of numbers to sum"
   ]
  },
  {
   "cell_type": "markdown",
   "metadata": {},
   "source": [
    "Then we need some ranges of numbers to test each of the formulae on. \n"
   ]
  },
  {
   "cell_type": "code",
   "execution_count": 11,
   "metadata": {},
   "outputs": [
    {
     "data": {
      "text/plain": [
       "[1, 10, 100, 1000, 10000, 100000, 1000000]"
      ]
     },
     "execution_count": 11,
     "metadata": {},
     "output_type": "execute_result"
    }
   ],
   "source": [
    "num_ranges = [10**x for x in range(7)]\n",
    "num_ranges"
   ]
  },
  {
   "cell_type": "markdown",
   "metadata": {},
   "source": [
    " ### Dictionary of functions\n",
    "\n",
    "As we have lots of functions to test, we can create a dictionary of functions to loop through  \n",
    "and test each function. The dictionary keys can then be used to label the results."
   ]
  },
  {
   "cell_type": "code",
   "execution_count": 12,
   "metadata": {},
   "outputs": [],
   "source": [
    "functions_dict={}\n",
    "\n",
    "functions_dict[\"for_loop_sum\"] = for_loop_sum\n",
    "\n",
    "functions_dict[\"sum_my_generator\"] = sum_my_generator\n",
    "\n",
    "functions_dict[\"sum_list_comprehension\"] = sum_list_comprehension\n",
    "\n",
    "functions_dict[\"sum_np_range\"] = sum_np_range\n",
    "\n",
    "functions_dict[\"np_range_sum\"] = np_range_sum\n",
    "\n",
    "functions_dict[\"sum_of_a_series_formula\"] = sum_of_a_series"
   ]
  },
  {
   "cell_type": "markdown",
   "metadata": {},
   "source": [
    "### Timeit\n",
    "\n",
    "Using the magic functions it's quite easy to test a single code block."
   ]
  },
  {
   "cell_type": "code",
   "execution_count": 13,
   "metadata": {},
   "outputs": [
    {
     "name": "stdout",
     "output_type": "stream",
     "text": [
      "679 ns ± 50.4 ns per loop (mean ± std. dev. of 7 runs, 1000000 loops each)\n"
     ]
    }
   ],
   "source": [
    "%%timeit\n",
    "for_loop_sum(10)"
   ]
  },
  {
   "cell_type": "markdown",
   "metadata": {},
   "source": [
    "Alternatively you can use the timeit function, which will accept a defined __function__ or __string__ to be run as a script.  \n",
    "For example:"
   ]
  },
  {
   "cell_type": "code",
   "execution_count": 14,
   "metadata": {},
   "outputs": [],
   "source": [
    "def count_to_1million():\n",
    "    ctr = 0\n",
    "    for i in range(10**6):\n",
    "        ctr+=1\n",
    "    return ctr"
   ]
  },
  {
   "cell_type": "code",
   "execution_count": 15,
   "metadata": {},
   "outputs": [
    {
     "data": {
      "text/plain": [
       "0.560838269000044"
      ]
     },
     "execution_count": 15,
     "metadata": {},
     "output_type": "execute_result"
    }
   ],
   "source": [
    "timeit.timeit(count_to_1million, number=10)"
   ]
  },
  {
   "cell_type": "markdown",
   "metadata": {},
   "source": [
    "But because we need to pass __arguments__ to the functions we made earlier,  \n",
    "we need to first define a wrapper.   \n",
    "This will be used to pass the arguments into the function,  \n",
    "and the resulting 'new' function is then passed to <b>timeit</b>."
   ]
  },
  {
   "cell_type": "code",
   "execution_count": 16,
   "metadata": {},
   "outputs": [],
   "source": [
    "def wrapper(func, *args):\n",
    "    def wrapped():\n",
    "        return func(*args)\n",
    "    return wrapped"
   ]
  },
  {
   "cell_type": "code",
   "execution_count": 17,
   "metadata": {},
   "outputs": [
    {
     "name": "stdout",
     "output_type": "stream",
     "text": [
      "running:  for_loop_sum\n",
      "finished\n",
      "running:  sum_my_generator\n",
      "finished\n",
      "running:  sum_list_comprehension\n",
      "finished\n",
      "running:  sum_np_range\n",
      "finished\n",
      "running:  np_range_sum\n",
      "finished\n",
      "running:  sum_of_a_series_formula\n",
      "finished\n"
     ]
    }
   ],
   "source": [
    "res_dict = {\"a_number_range\": num_ranges} #dictionaray to hold  results\n",
    "\n",
    "num_iterations = 1 # how many times the function is run between starting and stopping the timer\n",
    "num_repeats = 100 #how many times the timing process is repeated\n",
    "\n",
    "for func_name,func in functions_dict.items():\n",
    "    print(\"running: \", func_name)\n",
    "    res_list = []\n",
    "\n",
    "    for num in num_ranges:\n",
    "        if num < 10000000:\n",
    "            wrapped = wrapper(func, num)\n",
    "            res = min([timeit.timeit(wrapped, number = num_iterations) for i in range(num_repeats)])\n",
    "            # see the end of the notebook for why the min is used\n",
    "            res_list.append(res)\n",
    "            \n",
    "    res_dict[func_name] = res_list\n",
    "    \n",
    "    print('finished')"
   ]
  },
  {
   "cell_type": "code",
   "execution_count": 18,
   "metadata": {},
   "outputs": [
    {
     "name": "stdout",
     "output_type": "stream",
     "text": [
      "{'a_number_range': [1, 10, 100, 1000, 10000, 100000, 1000000],\n",
      " 'for_loop_sum': [7.049999908304017e-07,\n",
      "                  1.0569999631115934e-06,\n",
      "                  4.583999952956219e-06,\n",
      "                  4.513499999347914e-05,\n",
      "                  0.00045663899999226487,\n",
      "                  0.004728596000006746,\n",
      "                  0.04733708800000613],\n",
      " 'np_range_sum': [5.6409999729112315e-06,\n",
      "                  5.64200001917925e-06,\n",
      "                  5.993999991460441e-06,\n",
      "                  7.756999991670455e-06,\n",
      "                  1.657299998214512e-05,\n",
      "                  0.00010225899995930376,\n",
      "                  0.0023191629999814722],\n",
      " 'sum_list_comprehension': [1.0569999631115934e-06,\n",
      "                            1.4099999816608033e-06,\n",
      "                            4.230999991250428e-06,\n",
      "                            3.772999997408988e-05,\n",
      "                            0.00041150399999878573,\n",
      "                            0.005647868999972161,\n",
      "                            0.08765039599995816],\n",
      " 'sum_my_generator': [2.820999952746206e-06,\n",
      "                      3.5260000004200265e-06,\n",
      "                      1.3751999972555495e-05,\n",
      "                      7.687099997610858e-05,\n",
      "                      0.0007799900000122761,\n",
      "                      0.0078943929999582,\n",
      "                      0.07973237800001698],\n",
      " 'sum_np_range': [4.230999991250428e-06,\n",
      "                  4.93599998208083e-06,\n",
      "                  1.093099996296587e-05,\n",
      "                  7.263899999543355e-05,\n",
      "                  0.000679493999996339,\n",
      "                  0.006757553999989341,\n",
      "                  0.07131999099999575],\n",
      " 'sum_of_a_series_formula': [3.5199997228119173e-07,\n",
      "                             3.5199997228119173e-07,\n",
      "                             3.5199997228119173e-07,\n",
      "                             3.5199997228119173e-07,\n",
      "                             3.5199997228119173e-07,\n",
      "                             3.5199997228119173e-07,\n",
      "                             3.5199997228119173e-07]}\n"
     ]
    }
   ],
   "source": [
    "pprint(res_dict)"
   ]
  },
  {
   "cell_type": "markdown",
   "metadata": {},
   "source": [
    "if 'a_number_range' in res_dict.keys():\n",
    "    res_dict.pop('a_number_range',None)"
   ]
  },
  {
   "cell_type": "code",
   "execution_count": 19,
   "metadata": {},
   "outputs": [
    {
     "data": {
      "text/html": [
       "<div>\n",
       "<style scoped>\n",
       "    .dataframe tbody tr th:only-of-type {\n",
       "        vertical-align: middle;\n",
       "    }\n",
       "\n",
       "    .dataframe tbody tr th {\n",
       "        vertical-align: top;\n",
       "    }\n",
       "\n",
       "    .dataframe thead th {\n",
       "        text-align: right;\n",
       "    }\n",
       "</style>\n",
       "<table border=\"1\" class=\"dataframe\">\n",
       "  <thead>\n",
       "    <tr style=\"text-align: right;\">\n",
       "      <th></th>\n",
       "      <th>for_loop_sum</th>\n",
       "      <th>sum_my_generator</th>\n",
       "      <th>sum_list_comprehension</th>\n",
       "      <th>sum_np_range</th>\n",
       "      <th>np_range_sum</th>\n",
       "      <th>sum_of_a_series_formula</th>\n",
       "    </tr>\n",
       "    <tr>\n",
       "      <th>a_number_range</th>\n",
       "      <th></th>\n",
       "      <th></th>\n",
       "      <th></th>\n",
       "      <th></th>\n",
       "      <th></th>\n",
       "      <th></th>\n",
       "    </tr>\n",
       "  </thead>\n",
       "  <tbody>\n",
       "    <tr>\n",
       "      <th>1</th>\n",
       "      <td>7.050000e-07</td>\n",
       "      <td>0.000003</td>\n",
       "      <td>0.000001</td>\n",
       "      <td>0.000004</td>\n",
       "      <td>0.000006</td>\n",
       "      <td>3.520000e-07</td>\n",
       "    </tr>\n",
       "    <tr>\n",
       "      <th>10</th>\n",
       "      <td>1.057000e-06</td>\n",
       "      <td>0.000004</td>\n",
       "      <td>0.000001</td>\n",
       "      <td>0.000005</td>\n",
       "      <td>0.000006</td>\n",
       "      <td>3.520000e-07</td>\n",
       "    </tr>\n",
       "    <tr>\n",
       "      <th>100</th>\n",
       "      <td>4.584000e-06</td>\n",
       "      <td>0.000014</td>\n",
       "      <td>0.000004</td>\n",
       "      <td>0.000011</td>\n",
       "      <td>0.000006</td>\n",
       "      <td>3.520000e-07</td>\n",
       "    </tr>\n",
       "    <tr>\n",
       "      <th>1000</th>\n",
       "      <td>4.513500e-05</td>\n",
       "      <td>0.000077</td>\n",
       "      <td>0.000038</td>\n",
       "      <td>0.000073</td>\n",
       "      <td>0.000008</td>\n",
       "      <td>3.520000e-07</td>\n",
       "    </tr>\n",
       "    <tr>\n",
       "      <th>10000</th>\n",
       "      <td>4.566390e-04</td>\n",
       "      <td>0.000780</td>\n",
       "      <td>0.000412</td>\n",
       "      <td>0.000679</td>\n",
       "      <td>0.000017</td>\n",
       "      <td>3.520000e-07</td>\n",
       "    </tr>\n",
       "  </tbody>\n",
       "</table>\n",
       "</div>"
      ],
      "text/plain": [
       "                for_loop_sum  sum_my_generator  sum_list_comprehension  \\\n",
       "a_number_range                                                           \n",
       "1               7.050000e-07          0.000003                0.000001   \n",
       "10              1.057000e-06          0.000004                0.000001   \n",
       "100             4.584000e-06          0.000014                0.000004   \n",
       "1000            4.513500e-05          0.000077                0.000038   \n",
       "10000           4.566390e-04          0.000780                0.000412   \n",
       "\n",
       "                sum_np_range  np_range_sum  sum_of_a_series_formula  \n",
       "a_number_range                                                       \n",
       "1                   0.000004      0.000006             3.520000e-07  \n",
       "10                  0.000005      0.000006             3.520000e-07  \n",
       "100                 0.000011      0.000006             3.520000e-07  \n",
       "1000                0.000073      0.000008             3.520000e-07  \n",
       "10000               0.000679      0.000017             3.520000e-07  "
      ]
     },
     "execution_count": 19,
     "metadata": {},
     "output_type": "execute_result"
    }
   ],
   "source": [
    "df_res = pd.DataFrame(res_dict)\n",
    "df_res = df_res.set_index('a_number_range')\n",
    "df_res.head()"
   ]
  },
  {
   "cell_type": "code",
   "execution_count": 20,
   "metadata": {},
   "outputs": [
    {
     "data": {
      "image/png": "[encoded data removed]",
      "text/plain": [
       "<Figure size 432x432 with 1 Axes>"
      ]
     },
     "metadata": {},
     "output_type": "display_data"
    }
   ],
   "source": [
    "plt.style.use('ggplot')\n",
    "ax = df_res.plot(figsize=(6,6),\n",
    "                 logy=True,\n",
    "                 logx=True,\n",
    "                 title='Comparing Methods to Sum a Series',\n",
    "                 marker='.',\n",
    "                markersize=8)\n",
    "\n",
    "ax.set_ylabel('time (s)')\n",
    "ax.set_xlabel('number range')\n",
    "plt.show()"
   ]
  },
  {
   "cell_type": "markdown",
   "metadata": {},
   "source": [
    "# Bokeh Plot"
   ]
  },
  {
   "cell_type": "code",
   "execution_count": 21,
   "metadata": {},
   "outputs": [],
   "source": [
    "p = figure(plot_width=500, plot_height=500, x_axis_type=\"log\", y_axis_type=\"log\")\n",
    "source = ColumnDataSource(df_res)"
   ]
  },
  {
   "cell_type": "code",
   "execution_count": 22,
   "metadata": {},
   "outputs": [
    {
     "data": {
      "text/plain": [
       "['for_loop_sum',\n",
       " 'sum_my_generator',\n",
       " 'sum_list_comprehension',\n",
       " 'sum_np_range',\n",
       " 'np_range_sum',\n",
       " 'sum_of_a_series_formula']"
      ]
     },
     "execution_count": 22,
     "metadata": {},
     "output_type": "execute_result"
    }
   ],
   "source": [
    "func_names = list(df_res.columns)\n",
    "func_names"
   ]
  },
  {
   "cell_type": "code",
   "execution_count": 23,
   "metadata": {},
   "outputs": [
    {
     "ename": "NameError",
     "evalue": "name 'HoverTool' is not defined",
     "output_type": "error",
     "traceback": [
      "\u001b[1;31m---------------------------------------------------------------------------\u001b[0m",
      "\u001b[1;31mNameError\u001b[0m                                 Traceback (most recent call last)",
      "\u001b[1;32m<ipython-input-23-d1be8141d915>\u001b[0m in \u001b[0;36m<module>\u001b[1;34m()\u001b[0m\n\u001b[0;32m      8\u001b[0m            source=source)\n\u001b[0;32m      9\u001b[0m \u001b[1;33m\u001b[0m\u001b[0m\n\u001b[1;32m---> 10\u001b[1;33m p_hover = HoverTool(\n\u001b[0m\u001b[0;32m     11\u001b[0m         tooltips = [ (\"function name\",\"@\"), \n\u001b[0;32m     12\u001b[0m                     \u001b[1;33m(\u001b[0m\u001b[1;34m\"Weight (t)\"\u001b[0m\u001b[1;33m,\u001b[0m\u001b[1;34m\"@weight\"\u001b[0m\u001b[1;33m)\u001b[0m\u001b[1;33m,\u001b[0m\u001b[1;33m\u001b[0m\u001b[0m\n",
      "\u001b[1;31mNameError\u001b[0m: name 'HoverTool' is not defined"
     ]
    }
   ],
   "source": [
    "for func in func_names:\n",
    "    p.line(x='a_number_range',\n",
    "           y=func,\n",
    "           source=source)\n",
    "    \n",
    "    p.circle(x='a_number_range',\n",
    "           y=func,\n",
    "           source=source)\n",
    "\n",
    "p_hover = HoverTool(\n",
    "        tooltips = [ (\"function name\",\"@\"), \n",
    "                    (\"Weight (t)\",\"@weight\"),\n",
    "                    (\"Trailer\",\"@trailer_config\"), \n",
    "                    (\"CaTRo Unloading\", \"@planned_arrival{%Y-%b-%d}\"),\n",
    "                    (\"Module at Site\", \"@planned_departure{%Y-%b-%d}\")\n",
    "                    ], \n",
    "        formatters = {\"planned_arrival\" : \"datetime\", \"planned_departure\": \"datetime\" },\n",
    "        mode = 'mouse'\n",
    "    )\n",
    "p.add_tools(p_hover)\n",
    "\n",
    "    \n",
    "show(p)\n",
    "# output to static HTML file\n",
    "#output_file(\"line.html\")"
   ]
  },
  {
   "cell_type": "code",
   "execution_count": 24,
   "metadata": {},
   "outputs": [],
   "source": [
    "df_res = df_res.reset_index(level=0).melt(id_vars='a_number_range', var_name ='function name', value_name='time')\n"
   ]
  },
  {
   "cell_type": "code",
   "execution_count": 31,
   "metadata": {},
   "outputs": [
    {
     "data": {
      "text/html": [
       "<div>\n",
       "<style scoped>\n",
       "    .dataframe tbody tr th:only-of-type {\n",
       "        vertical-align: middle;\n",
       "    }\n",
       "\n",
       "    .dataframe tbody tr th {\n",
       "        vertical-align: top;\n",
       "    }\n",
       "\n",
       "    .dataframe thead th {\n",
       "        text-align: right;\n",
       "    }\n",
       "</style>\n",
       "<table border=\"1\" class=\"dataframe\">\n",
       "  <thead>\n",
       "    <tr style=\"text-align: right;\">\n",
       "      <th></th>\n",
       "      <th>a_number_range</th>\n",
       "      <th>function name</th>\n",
       "      <th>time</th>\n",
       "    </tr>\n",
       "  </thead>\n",
       "  <tbody>\n",
       "    <tr>\n",
       "      <th>0</th>\n",
       "      <td>1</td>\n",
       "      <td>for_loop_sum</td>\n",
       "      <td>7.050000e-07</td>\n",
       "    </tr>\n",
       "    <tr>\n",
       "      <th>1</th>\n",
       "      <td>10</td>\n",
       "      <td>for_loop_sum</td>\n",
       "      <td>1.057000e-06</td>\n",
       "    </tr>\n",
       "    <tr>\n",
       "      <th>2</th>\n",
       "      <td>100</td>\n",
       "      <td>for_loop_sum</td>\n",
       "      <td>4.584000e-06</td>\n",
       "    </tr>\n",
       "    <tr>\n",
       "      <th>3</th>\n",
       "      <td>1000</td>\n",
       "      <td>for_loop_sum</td>\n",
       "      <td>4.513500e-05</td>\n",
       "    </tr>\n",
       "    <tr>\n",
       "      <th>4</th>\n",
       "      <td>10000</td>\n",
       "      <td>for_loop_sum</td>\n",
       "      <td>4.566390e-04</td>\n",
       "    </tr>\n",
       "  </tbody>\n",
       "</table>\n",
       "</div>"
      ],
      "text/plain": [
       "   a_number_range function name          time\n",
       "0               1  for_loop_sum  7.050000e-07\n",
       "1              10  for_loop_sum  1.057000e-06\n",
       "2             100  for_loop_sum  4.584000e-06\n",
       "3            1000  for_loop_sum  4.513500e-05\n",
       "4           10000  for_loop_sum  4.566390e-04"
      ]
     },
     "execution_count": 31,
     "metadata": {},
     "output_type": "execute_result"
    }
   ],
   "source": [
    "df_res.head()"
   ]
  },
  {
   "cell_type": "code",
   "execution_count": 33,
   "metadata": {},
   "outputs": [
    {
     "name": "stderr",
     "output_type": "stream",
     "text": [
      "ERROR:bokeh.core.validation.check:E-1001 (BAD_COLUMN_NAME): Glyph refers to nonexistent column name: a_num_range, function name, time [renderer: GlyphRenderer(id='bd6adfa4-1885-45a8-8765-1d324484534b', ...)]\n",
      "ERROR:bokeh.core.validation.check:E-1001 (BAD_COLUMN_NAME): Glyph refers to nonexistent column name: a_number_range, function name, time [renderer: GlyphRenderer(id='b7ab2fe3-7935-4ed6-bf14-5f7b40adf21d', ...)]\n",
      "ERROR:bokeh.core.validation.check:E-1001 (BAD_COLUMN_NAME): Glyph refers to nonexistent column name: a_number_range, function name, time [renderer: GlyphRenderer(id='3fd9bd8f-6ee0-4309-b681-b1110ddbc8d9', ...)]\n"
     ]
    }
   ],
   "source": [
    "source = ColumnDataSource(df_res)\n",
    "\n",
    "p = figure()\n",
    "\n",
    "categories = np.sort(df_res['function name'].unique())\n",
    "color_mapper = CategoricalColorMapper(factors=categories, palette=Accent[len(categories)])\n",
    "\n",
    "p.circle(x='a_number_range', y='time', legend='function name', color = dict(field='function name', transform=color_mapper))\n",
    "\n",
    "\n",
    "show(p)"
   ]
  },
  {
   "cell_type": "code",
   "execution_count": 75,
   "metadata": {},
   "outputs": [
    {
     "name": "stderr",
     "output_type": "stream",
     "text": [
      "ERROR:bokeh.core.validation.check:E-1001 (BAD_COLUMN_NAME): Glyph refers to nonexistent column name: time [renderer: GlyphRenderer(id='8611d4fa-612b-4d35-a9b1-432d52599fac', ...)]\n"
     ]
    }
   ],
   "source": [
    "p_hover = HoverTool(\n",
    "        tooltips = [ (\"function name\",\"@\"), \n",
    "                    (\"Weight (t)\",\"@weight\"),\n",
    "                    (\"Trailer\",\"@trailer_config\"), \n",
    "                    (\"CaTRo Unloading\", \"@planned_arrival{%Y-%b-%d}\"),\n",
    "                    (\"Module at Site\", \"@planned_departure{%Y-%b-%d}\")\n",
    "                    ], \n",
    "        formatters = {\"planned_arrival\" : \"datetime\", \"planned_departure\": \"datetime\" },\n",
    "        mode = 'mouse'\n",
    "    )\n",
    "p.add_tools(p_hover)\n",
    "\n",
    "\n",
    "\n",
    "# output to static HTML file\n",
    "#output_file(\"line.html\")"
   ]
  },
  {
   "cell_type": "markdown",
   "metadata": {},
   "source": [
    "### _reasoning for using min of timeit results_\n",
    "\n",
    "https://docs.python.org/2/library/timeit.html#timeit.Timer.timeit\n",
    "\n",
    "`Note It’s tempting to calculate mean and standard deviation from the result vector and report these. However, this is not very useful. In a typical case, the lowest value gives a lower bound for how fast your machine can run the given code snippet; higher values in the result vector are typically not caused by variability in Python’s speed, but by other processes interfering with your timing accuracy. So the min() of the result is probably the only number you should be interested in. After that, you should look at the entire vector and apply common sense rather than statistics.`"
   ]
  },
  {
   "cell_type": "code",
   "execution_count": null,
   "metadata": {},
   "outputs": [],
   "source": []
  }
 ],
 "metadata": {
  "kernelspec": {
   "display_name": "Python 3",
   "language": "python",
   "name": "python3"
  },
  "language_info": {
   "codemirror_mode": {
    "name": "ipython",
    "version": 3
   },
   "file_extension": ".py",
   "mimetype": "text/x-python",
   "name": "python",
   "nbconvert_exporter": "python",
   "pygments_lexer": "ipython3",
   "version": "3.7.0"
  }
 },
 "nbformat": 4,
 "nbformat_minor": 2
}
